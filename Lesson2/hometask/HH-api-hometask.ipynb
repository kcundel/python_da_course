{
 "cells": [
  {
   "cell_type": "code",
   "execution_count": 58,
   "metadata": {},
   "outputs": [],
   "source": [
    "import requests\n",
    "import json\n",
    "from tqdm.auto import tqdm\n",
    "from collections import defaultdict\n",
    "import pickle \n",
    "import pandas as pd"
   ]
  },
  {
   "cell_type": "code",
   "execution_count": 3,
   "metadata": {},
   "outputs": [],
   "source": [
    "sber = '3529'\n",
    "page = 1\n",
    "num_per_page = 100\n",
    "moscow = 1\n",
    "url = f'https://api.hh.ru/vacancies?employer_id={sber}&page={page}&per_page={num_per_page}&area={moscow}'"
   ]
  },
  {
   "cell_type": "code",
   "execution_count": 4,
   "metadata": {},
   "outputs": [],
   "source": [
    "res = requests.get(url)"
   ]
  },
  {
   "cell_type": "code",
   "execution_count": 26,
   "metadata": {},
   "outputs": [],
   "source": [
    "\n",
    "vacancies = res.json()\n",
    "num_pages = vacancies.get('pages')\n",
    "vacancy_ids = [el.get('id') for el in vacancies.get('items')]"
   ]
  },
  {
   "cell_type": "code",
   "execution_count": null,
   "metadata": {},
   "outputs": [],
   "source": [
    "# Задание вытащить все вакансии СБЕРа с ХХ (у апи есть ограничение в 2000, подумайте как его обойти)\n",
    "# Вытащите все описания этих вакансий\n",
    "# Создайте аналогичный vacancy DataFrame только добавьте поле skills\n",
    "# Переведите даты публикаций в datetime\n",
    "# Постройте график опубликованных вакансий по датам\n",
    "# Переведите даты в дни недели, и определите день недели, в который больше всего публикуют вакансий\n",
    "# Найдите те вакансии с использованием python, которые вам интересны\n",
    "# Определите по полю skills какие навыки больше всего востребованы для этих вакансий, и\n",
    "# Постройте график наиболее востребованных вакансий"
   ]
  },
  {
   "cell_type": "code",
   "execution_count": null,
   "metadata": {},
   "outputs": [],
   "source": []
  }
 ],
 "metadata": {
  "kernelspec": {
   "display_name": "Python 3",
   "language": "python",
   "name": "python3"
  },
  "language_info": {
   "codemirror_mode": {
    "name": "ipython",
    "version": 3
   },
   "file_extension": ".py",
   "mimetype": "text/x-python",
   "name": "python",
   "nbconvert_exporter": "python",
   "pygments_lexer": "ipython3",
   "version": "3.8.5"
  }
 },
 "nbformat": 4,
 "nbformat_minor": 4
}
