{
 "cells": [
  {
   "cell_type": "code",
   "execution_count": 44,
   "metadata": {},
   "outputs": [],
   "source": [
    "vacancy = pd.read_csv('vacancy.csv')"
   ]
  },
  {
   "cell_type": "code",
   "execution_count": 46,
   "metadata": {},
   "outputs": [
    {
     "data": {
      "text/html": [
       "<div>\n",
       "<style scoped>\n",
       "    .dataframe tbody tr th:only-of-type {\n",
       "        vertical-align: middle;\n",
       "    }\n",
       "\n",
       "    .dataframe tbody tr th {\n",
       "        vertical-align: top;\n",
       "    }\n",
       "\n",
       "    .dataframe thead th {\n",
       "        text-align: right;\n",
       "    }\n",
       "</style>\n",
       "<table border=\"1\" class=\"dataframe\">\n",
       "  <thead>\n",
       "    <tr style=\"text-align: right;\">\n",
       "      <th></th>\n",
       "      <th>id</th>\n",
       "      <th>created_at</th>\n",
       "      <th>updated_at</th>\n",
       "      <th>vacid</th>\n",
       "      <th>vactitle</th>\n",
       "      <th>vacdescription</th>\n",
       "      <th>vacdate</th>\n",
       "      <th>vacstatus</th>\n",
       "      <th>vaclink</th>\n",
       "      <th>vachtml</th>\n",
       "    </tr>\n",
       "  </thead>\n",
       "  <tbody>\n",
       "    <tr>\n",
       "      <th>0</th>\n",
       "      <td>383479</td>\n",
       "      <td>2021-03-14 09:39:21.854462</td>\n",
       "      <td>2021-03-14 09:39:21.854584</td>\n",
       "      <td>1474941</td>\n",
       "      <td>Senior java-разработчик (в команду Онбординга)</td>\n",
       "      <td>Работа у нас — это:команда профессионалов, го...</td>\n",
       "      <td>2021-03-15</td>\n",
       "      <td>new</td>\n",
       "      <td>https://my.sbertalents.ru/#/job-requisition/14...</td>\n",
       "      <td>{\"title\": \"Senior java-\\u0440\\u0430\\u0437\\u044...</td>\n",
       "    </tr>\n",
       "    <tr>\n",
       "      <th>1</th>\n",
       "      <td>383480</td>\n",
       "      <td>2021-03-14 09:39:21.854462</td>\n",
       "      <td>2021-03-14 09:39:21.854584</td>\n",
       "      <td>1476154</td>\n",
       "      <td>Дизайнер мобильных приложений</td>\n",
       "      <td>Мы ищем  дизайнера в нашу дружную команду Сбер...</td>\n",
       "      <td>2021-03-15</td>\n",
       "      <td>new</td>\n",
       "      <td>https://my.sbertalents.ru/#/job-requisition/14...</td>\n",
       "      <td>{\"title\": \"\\u0414\\u0438\\u0437\\u0430\\u0439\\u043...</td>\n",
       "    </tr>\n",
       "  </tbody>\n",
       "</table>\n",
       "</div>"
      ],
      "text/plain": [
       "       id                  created_at                  updated_at    vacid  \\\n",
       "0  383479  2021-03-14 09:39:21.854462  2021-03-14 09:39:21.854584  1474941   \n",
       "1  383480  2021-03-14 09:39:21.854462  2021-03-14 09:39:21.854584  1476154   \n",
       "\n",
       "                                         vactitle  \\\n",
       "0  Senior java-разработчик (в команду Онбординга)   \n",
       "1                   Дизайнер мобильных приложений   \n",
       "\n",
       "                                      vacdescription     vacdate vacstatus  \\\n",
       "0   Работа у нас — это:команда профессионалов, го...  2021-03-15       new   \n",
       "1  Мы ищем  дизайнера в нашу дружную команду Сбер...  2021-03-15       new   \n",
       "\n",
       "                                             vaclink  \\\n",
       "0  https://my.sbertalents.ru/#/job-requisition/14...   \n",
       "1  https://my.sbertalents.ru/#/job-requisition/14...   \n",
       "\n",
       "                                             vachtml  \n",
       "0  {\"title\": \"Senior java-\\u0440\\u0430\\u0437\\u044...  \n",
       "1  {\"title\": \"\\u0414\\u0438\\u0437\\u0430\\u0439\\u043...  "
      ]
     },
     "execution_count": 46,
     "metadata": {},
     "output_type": "execute_result"
    }
   ],
   "source": [
    "# Посмотреть первые строчки"
   ]
  },
  {
   "cell_type": "code",
   "execution_count": 1,
   "metadata": {},
   "outputs": [],
   "source": [
    "# убрать лишнее"
   ]
  },
  {
   "cell_type": "code",
   "execution_count": 68,
   "metadata": {},
   "outputs": [],
   "source": [
    "# посчитать по датам количество вакансий"
   ]
  },
  {
   "cell_type": "code",
   "execution_count": 70,
   "metadata": {},
   "outputs": [],
   "source": [
    "# перевести даты в формат datetime"
   ]
  },
  {
   "cell_type": "code",
   "execution_count": null,
   "metadata": {},
   "outputs": [],
   "source": [
    "# перевести даты в индекс и построить график"
   ]
  },
  {
   "cell_type": "code",
   "execution_count": 4,
   "metadata": {},
   "outputs": [],
   "source": [
    "# найти профессии с самым большим количеством вакансий и построить по ним график"
   ]
  },
  {
   "cell_type": "code",
   "execution_count": 2,
   "metadata": {},
   "outputs": [],
   "source": [
    "# Найти вакансии аналитика"
   ]
  },
  {
   "cell_type": "code",
   "execution_count": 3,
   "metadata": {},
   "outputs": [],
   "source": [
    "# посчитать количество вакансий аналитика"
   ]
  },
  {
   "cell_type": "code",
   "execution_count": 5,
   "metadata": {},
   "outputs": [],
   "source": [
    "# найти вакансии аналитика который использует python"
   ]
  },
  {
   "cell_type": "code",
   "execution_count": 6,
   "metadata": {},
   "outputs": [],
   "source": [
    "# отфильтровать вакансии по дате"
   ]
  }
 ],
 "metadata": {
  "kernelspec": {
   "display_name": "Python 3",
   "language": "python",
   "name": "python3"
  },
  "language_info": {
   "codemirror_mode": {
    "name": "ipython",
    "version": 3
   },
   "file_extension": ".py",
   "mimetype": "text/x-python",
   "name": "python",
   "nbconvert_exporter": "python",
   "pygments_lexer": "ipython3",
   "version": "3.8.5"
  }
 },
 "nbformat": 4,
 "nbformat_minor": 4
}
